{
 "cells": [
  {
   "cell_type": "markdown",
   "metadata": {
    "deletable": true,
    "editable": true
   },
   "source": [
    "# Generative Adversarial Network on MNIST "
   ]
  },
  {
   "cell_type": "code",
   "execution_count": 209,
   "metadata": {
    "collapsed": true,
    "deletable": true,
    "editable": true
   },
   "outputs": [],
   "source": [
    "import matplotlib.pyplot as plt\n",
    "%matplotlib inline"
   ]
  },
  {
   "cell_type": "code",
   "execution_count": 210,
   "metadata": {
    "collapsed": true,
    "deletable": true,
    "editable": true
   },
   "outputs": [],
   "source": [
    "import torch\n",
    "import torchvision\n",
    "import torch.utils.data as Data\n",
    "import numpy as np\n",
    "import torch.nn as nn\n",
    "torch.manual_seed(7)\n",
    "np.random.seed(7)"
   ]
  },
  {
   "cell_type": "markdown",
   "metadata": {},
   "source": [
    "### One take away there, start with small learning rate!!!"
   ]
  },
  {
   "cell_type": "code",
   "execution_count": 211,
   "metadata": {
    "collapsed": true,
    "deletable": true,
    "editable": true,
    "scrolled": true
   },
   "outputs": [],
   "source": [
    "BATCH_SIZE = 64 \n",
    "LR_G = 0.0002 # Learning rate for G network\n",
    "LR_D = 0.0002 # Learning rate for D network\n",
    "INPUT_DIMENSION = 784\n",
    "INPUT_NUMBERS = 100\n",
    "N_NODES = 128"
   ]
  },
  {
   "cell_type": "markdown",
   "metadata": {
    "deletable": true,
    "editable": true
   },
   "source": [
    "## 1. Load MNIST Data"
   ]
  },
  {
   "cell_type": "code",
   "execution_count": 212,
   "metadata": {
    "collapsed": true,
    "deletable": true,
    "editable": true
   },
   "outputs": [],
   "source": [
    "mnist_trainset=torchvision.datasets.MNIST('MNIST',download=True,transform=torchvision.transforms.ToTensor())"
   ]
  },
  {
   "cell_type": "markdown",
   "metadata": {
    "deletable": true,
    "editable": true
   },
   "source": [
    "## 2. Create Two Networks"
   ]
  },
  {
   "cell_type": "code",
   "execution_count": 221,
   "metadata": {
    "collapsed": false,
    "deletable": true,
    "editable": true
   },
   "outputs": [],
   "source": [
    "Generator = nn.Sequential(\n",
    "    nn.Linear(INPUT_NUMBERS,N_NODES),\n",
    "    nn.LeakyReLU(),\n",
    "    nn.Linear(N_NODES,INPUT_DIMENSION),\n",
    "    nn.Tanh(),\n",
    ")\n",
    "\n",
    "Discriminator = nn.Sequential(\n",
    "    nn.Linear(INPUT_DIMENSION,N_NODES),\n",
    "    nn.LeakyReLU(),\n",
    "    nn.Linear(N_NODES,1),\n",
    "    nn.Sigmoid(),\n",
    ")"
   ]
  },
  {
   "cell_type": "markdown",
   "metadata": {
    "deletable": true,
    "editable": true
   },
   "source": [
    "## 3. Model Training"
   ]
  },
  {
   "cell_type": "code",
   "execution_count": 222,
   "metadata": {
    "collapsed": true,
    "deletable": true,
    "editable": true
   },
   "outputs": [],
   "source": [
    "# Here we will do the batch training."
   ]
  },
  {
   "cell_type": "code",
   "execution_count": 223,
   "metadata": {
    "collapsed": true,
    "deletable": true,
    "editable": true
   },
   "outputs": [],
   "source": [
    "train_loader = Data.DataLoader(dataset=mnist_trainset, batch_size=BATCH_SIZE, shuffle=True)"
   ]
  },
  {
   "cell_type": "code",
   "execution_count": 224,
   "metadata": {
    "collapsed": true,
    "deletable": true,
    "editable": true
   },
   "outputs": [],
   "source": [
    "opt_D = torch.optim.Adam(Discriminator.parameters(), lr=LR_D)\n",
    "opt_G = torch.optim.Adam(Generator.parameters(), lr=LR_G)"
   ]
  },
  {
   "cell_type": "code",
   "execution_count": 225,
   "metadata": {
    "collapsed": true,
    "deletable": true,
    "editable": true
   },
   "outputs": [
    {
     "name": "stdout",
     "output_type": "stream",
     "text": [
      "(tensor(1.4362), tensor(-0.6883))\n",
      "(tensor(1.6968), tensor(-0.7932))\n",
      "(tensor(0.9881), tensor(-0.4952))\n",
      "(tensor(1.2089), tensor(-0.7510))\n",
      "(tensor(0.7400), tensor(-0.3375))\n",
      "(tensor(0.9481), tensor(-0.5138))\n",
      "(tensor(0.7264), tensor(-0.3843))\n",
      "(tensor(1.3787), tensor(-0.6746))\n",
      "(tensor(0.6309), tensor(-0.2765))\n",
      "(tensor(1.0045), tensor(-0.4756))\n",
      "(tensor(0.7913), tensor(-0.3832))\n",
      "(tensor(0.9340), tensor(-0.4851))\n",
      "(tensor(0.6610), tensor(-0.3661))\n",
      "(tensor(1.0310), tensor(-0.4795))\n",
      "(tensor(0.9714), tensor(-0.4218))\n",
      "(tensor(0.9840), tensor(-0.4202))\n",
      "(tensor(0.7570), tensor(-0.4193))\n",
      "(tensor(1.1932), tensor(-0.5775))\n",
      "(tensor(0.7686), tensor(-0.3955))\n",
      "(tensor(0.4474), tensor(-0.2560))\n",
      "(tensor(0.4750), tensor(-0.2422))\n",
      "(tensor(0.6845), tensor(-0.3121))\n",
      "(tensor(0.4234), tensor(-0.1903))\n",
      "(tensor(0.5712), tensor(-0.2309))\n",
      "(tensor(0.5351), tensor(-0.2566))\n",
      "(tensor(0.5931), tensor(-0.2690))\n",
      "(tensor(0.6021), tensor(-0.2534))\n",
      "(tensor(0.7639), tensor(-0.4123))\n",
      "(tensor(0.8502), tensor(-0.5270))\n",
      "(tensor(0.6412), tensor(-0.3111))\n",
      "(tensor(0.5632), tensor(-0.2700))\n",
      "(tensor(0.6962), tensor(-0.3196))\n",
      "(tensor(0.4898), tensor(-0.2961))\n",
      "(tensor(0.7404), tensor(-0.4144))\n",
      "(tensor(0.8849), tensor(-0.5134))\n",
      "(tensor(0.6923), tensor(-0.3733))\n",
      "(tensor(0.9894), tensor(-0.4385))\n",
      "(tensor(0.8245), tensor(-0.4420))\n",
      "(tensor(0.7059), tensor(-0.3534))\n",
      "(tensor(0.8915), tensor(-0.4271))\n",
      "(tensor(0.6386), tensor(-0.3875))\n",
      "(tensor(0.6701), tensor(-0.3635))\n",
      "(tensor(0.9318), tensor(-0.4054))\n",
      "(tensor(0.6861), tensor(-0.3392))\n",
      "(tensor(0.7852), tensor(-0.4388))\n",
      "(tensor(0.7659), tensor(-0.4181))\n",
      "(tensor(0.8430), tensor(-0.4033))\n",
      "(tensor(1.2014), tensor(-0.5960))\n",
      "(tensor(0.9768), tensor(-0.5203))\n",
      "(tensor(0.8814), tensor(-0.4951))\n",
      "(tensor(1.0718), tensor(-0.4638))\n",
      "(tensor(0.7909), tensor(-0.3440))\n",
      "(tensor(0.8424), tensor(-0.4007))\n",
      "(tensor(0.8976), tensor(-0.4613))\n",
      "(tensor(0.6956), tensor(-0.4099))\n",
      "(tensor(0.8582), tensor(-0.4443))\n",
      "(tensor(0.9787), tensor(-0.4837))\n",
      "(tensor(1.0479), tensor(-0.4892))\n",
      "(tensor(1.0030), tensor(-0.4202))\n",
      "(tensor(1.0102), tensor(-0.5479))\n",
      "(tensor(1.0942), tensor(-0.6297))\n",
      "(tensor(1.0122), tensor(-0.5798))\n",
      "(tensor(0.9002), tensor(-0.3369))\n",
      "(tensor(0.8381), tensor(-0.4085))\n",
      "(tensor(1.0363), tensor(-0.5345))\n",
      "(tensor(1.0274), tensor(-0.4916))\n",
      "(tensor(1.3533), tensor(-0.6839))\n",
      "(tensor(0.9672), tensor(-0.4684))\n",
      "(tensor(1.2062), tensor(-0.5900))\n",
      "(tensor(0.9239), tensor(-0.5013))\n",
      "(tensor(1.1255), tensor(-0.6836))\n",
      "(tensor(1.1624), tensor(-0.6020))\n",
      "(tensor(1.1882), tensor(-0.6226))\n",
      "(tensor(0.8928), tensor(-0.4195))\n",
      "(tensor(1.1757), tensor(-0.5754))\n",
      "(tensor(0.9322), tensor(-0.4521))\n",
      "(tensor(0.7854), tensor(-0.4454))\n",
      "(tensor(1.3870), tensor(-0.6672))\n",
      "(tensor(0.8195), tensor(-0.4238))\n",
      "(tensor(1.0320), tensor(-0.4379))\n",
      "(tensor(0.7910), tensor(-0.3456))\n",
      "(tensor(1.1793), tensor(-0.5512))\n",
      "(tensor(1.0511), tensor(-0.5394))\n",
      "(tensor(1.3320), tensor(-0.6397))\n",
      "(tensor(1.3877), tensor(-0.8076))\n",
      "(tensor(0.9689), tensor(-0.4361))\n",
      "(tensor(0.7748), tensor(-0.3923))\n",
      "(tensor(1.2395), tensor(-0.6588))\n",
      "(tensor(1.0376), tensor(-0.4999))\n",
      "(tensor(1.2571), tensor(-0.6177))\n",
      "(tensor(1.0257), tensor(-0.6124))\n",
      "(tensor(0.9566), tensor(-0.4578))\n",
      "(tensor(1.0852), tensor(-0.5292))\n",
      "(tensor(1.0029), tensor(-0.5428))\n",
      "(tensor(1.0172), tensor(-0.4981))\n",
      "(tensor(1.0300), tensor(-0.5024))\n",
      "(tensor(1.0013), tensor(-0.5944))\n",
      "(tensor(1.2125), tensor(-0.6164))\n",
      "(tensor(1.1534), tensor(-0.5059))\n",
      "(tensor(0.7813), tensor(-0.3611))\n",
      "(tensor(1.0897), tensor(-0.5927))\n",
      "(tensor(0.8853), tensor(-0.3760))\n",
      "(tensor(0.7817), tensor(-0.3977))\n",
      "(tensor(1.1713), tensor(-0.5509))\n",
      "(tensor(1.0906), tensor(-0.4826))\n",
      "(tensor(1.0117), tensor(-0.4929))\n",
      "(tensor(0.9605), tensor(-0.4851))\n",
      "(tensor(1.0858), tensor(-0.5312))\n",
      "(tensor(1.2941), tensor(-0.6511))\n",
      "(tensor(0.7283), tensor(-0.3824))\n",
      "(tensor(1.0009), tensor(-0.5839))\n",
      "(tensor(0.9467), tensor(-0.4875))\n",
      "(tensor(1.1484), tensor(-0.6054))\n",
      "(tensor(1.0604), tensor(-0.4986))\n",
      "(tensor(1.0278), tensor(-0.6193))\n",
      "(tensor(0.8963), tensor(-0.4494))\n",
      "(tensor(1.0491), tensor(-0.5649))\n",
      "(tensor(0.8976), tensor(-0.5188))\n",
      "(tensor(1.0895), tensor(-0.5270))\n",
      "(tensor(0.9844), tensor(-0.5406))\n",
      "(tensor(1.1976), tensor(-0.6130))\n",
      "(tensor(0.8200), tensor(-0.4254))\n",
      "(tensor(0.9183), tensor(-0.4901))\n",
      "(tensor(0.9127), tensor(-0.5063))\n",
      "(tensor(0.9844), tensor(-0.5343))\n",
      "(tensor(0.8109), tensor(-0.3862))\n",
      "(tensor(0.8168), tensor(-0.4488))\n",
      "(tensor(0.9061), tensor(-0.4033))\n",
      "(tensor(0.8605), tensor(-0.4450))\n",
      "(tensor(0.9302), tensor(-0.4119))\n",
      "(tensor(0.9289), tensor(-0.4266))\n",
      "(tensor(1.2100), tensor(-0.6522))\n",
      "(tensor(0.7780), tensor(-0.4676))\n",
      "(tensor(0.7802), tensor(-0.3538))\n",
      "(tensor(1.0972), tensor(-0.5617))\n",
      "(tensor(1.0583), tensor(-0.5972))\n",
      "(tensor(0.9131), tensor(-0.4627))\n",
      "(tensor(0.9965), tensor(-0.4735))\n",
      "(tensor(1.1539), tensor(-0.4908))\n",
      "(tensor(0.8934), tensor(-0.4140))\n",
      "(tensor(0.7783), tensor(-0.3104))\n",
      "(tensor(1.0313), tensor(-0.4811))\n",
      "(tensor(1.0305), tensor(-0.5362))\n",
      "(tensor(0.9394), tensor(-0.5923))\n",
      "(tensor(1.2581), tensor(-0.5863))\n",
      "(tensor(1.2190), tensor(-0.6504))\n",
      "(tensor(0.7961), tensor(-0.3156))\n",
      "(tensor(0.7532), tensor(-0.4296))\n",
      "(tensor(0.8366), tensor(-0.5107))\n",
      "(tensor(1.0750), tensor(-0.5572))\n",
      "(tensor(1.2374), tensor(-0.6988))\n",
      "(tensor(0.9889), tensor(-0.4054))\n",
      "(tensor(0.8473), tensor(-0.4072))\n",
      "(tensor(0.9114), tensor(-0.4489))\n",
      "(tensor(0.9328), tensor(-0.5193))\n",
      "(tensor(0.7962), tensor(-0.4438))\n",
      "(tensor(0.9952), tensor(-0.5217))\n",
      "(tensor(0.9879), tensor(-0.5560))\n",
      "(tensor(0.8742), tensor(-0.4782))\n",
      "(tensor(0.8622), tensor(-0.4261))\n",
      "(tensor(1.0020), tensor(-0.4768))\n",
      "(tensor(1.0358), tensor(-0.4955))\n",
      "(tensor(1.0246), tensor(-0.5388))\n",
      "(tensor(0.9228), tensor(-0.5002))\n",
      "(tensor(1.0497), tensor(-0.5778))\n",
      "(tensor(0.9702), tensor(-0.5397))\n",
      "(tensor(0.8972), tensor(-0.4170))\n",
      "(tensor(1.1409), tensor(-0.5618))\n",
      "(tensor(0.6854), tensor(-0.3160))\n",
      "(tensor(0.9283), tensor(-0.4121))\n",
      "(tensor(1.1314), tensor(-0.5862))\n",
      "(tensor(0.9977), tensor(-0.4309))\n",
      "(tensor(0.9422), tensor(-0.4547))\n",
      "(tensor(0.8755), tensor(-0.4225))\n",
      "(tensor(0.9040), tensor(-0.3689))\n",
      "(tensor(0.8593), tensor(-0.3872))\n",
      "(tensor(1.0633), tensor(-0.4937))\n",
      "(tensor(1.0372), tensor(-0.3868))\n",
      "(tensor(1.2254), tensor(-0.6735))\n",
      "(tensor(1.0316), tensor(-0.5475))\n",
      "(tensor(0.9848), tensor(-0.5039))\n",
      "(tensor(0.8452), tensor(-0.4670))\n",
      "(tensor(1.1663), tensor(-0.6879))\n",
      "(tensor(0.8911), tensor(-0.4801))\n",
      "(tensor(0.7450), tensor(-0.4123))\n",
      "(tensor(0.9278), tensor(-0.3964))\n",
      "(tensor(0.8279), tensor(-0.3715))\n",
      "(tensor(0.8762), tensor(-0.4280))\n",
      "(tensor(1.0149), tensor(-0.4436))\n",
      "(tensor(1.1856), tensor(-0.4676))\n",
      "(tensor(1.0239), tensor(-0.4794))\n",
      "(tensor(1.0042), tensor(-0.5116))\n",
      "(tensor(0.9081), tensor(-0.4867))\n",
      "(tensor(1.1281), tensor(-0.5643))\n",
      "(tensor(0.8461), tensor(-0.3526))\n",
      "(tensor(0.7072), tensor(-0.3483))\n",
      "(tensor(0.9767), tensor(-0.5417))\n",
      "(tensor(1.0040), tensor(-0.4829))\n",
      "(tensor(1.1276), tensor(-0.6981))\n",
      "(tensor(1.0076), tensor(-0.5568))\n"
     ]
    },
    {
     "data": {
      "image/png": "[encoded data removed]",
      "text/plain": [
       "<matplotlib.figure.Figure at 0x11f630b50>"
      ]
     },
     "metadata": {},
     "output_type": "display_data"
    }
   ],
   "source": [
    "for epoch in range(100):\n",
    "    \n",
    "    for step, (true_x, true_y) in enumerate(train_loader):\n",
    "    # Reshape data\n",
    "        true_x= true_x.view(-1,INPUT_DIMENSION)\n",
    "    # Random generate noise data\n",
    "        NOISE_SIZE = true_x.shape[0]\n",
    "        noise_x = torch.randn(NOISE_SIZE, INPUT_NUMBERS)\n",
    "    # G Model\n",
    "        fake_x = Generator(noise_x)\n",
    "    # D Model\n",
    "        prob0 = Discriminator(true_x)\n",
    "        prob1 = Discriminator(fake_x)\n",
    "\n",
    "    # Calculate Loss\n",
    "        D_loss = - torch.mean(torch.log(prob0) + torch.log(1. - prob1))\n",
    "        G_loss = torch.mean(torch.log(1. - prob1))\n",
    "    # Optimization\n",
    "        opt_D.zero_grad()\n",
    "        D_loss.backward(retain_graph=True)      # reusing computational graph\n",
    "        opt_D.step()\n",
    "\n",
    "        opt_G.zero_grad()\n",
    "        G_loss.backward()\n",
    "        opt_G.step()\n",
    "        \n",
    "        if step % 500 == 0:  # plotting\n",
    "            print(D_loss,G_loss)\n",
    "            #print('True_prob{},Fake_prob{}'.format(prob0,prob1))\n",
    "            fake_pic = fake_x.view(-1,28,28).data.numpy()[0]\n",
    "            plt.cla()\n",
    "            plt.imshow(fake_pic,cmap='Greys_r')"
   ]
  },
  {
   "cell_type": "code",
   "execution_count": 114,
   "metadata": {
    "collapsed": true
   },
   "outputs": [],
   "source": [
    "#g_model = torch.load('Generator.pt')\n",
    "#d_model = torch.load('Discriminator.pt')\n",
    "#Generator.load_state_dict(g_model())\n",
    "#Discriminator.load_state_dict(d_model())"
   ]
  },
  {
   "cell_type": "code",
   "execution_count": 203,
   "metadata": {
    "collapsed": false
   },
   "outputs": [],
   "source": [
    "z = true_x[10].view(28,28)\n",
    "z_small = z[10:20,10:20]\n",
    "z_final=z_small.contiguous().view(-1,100)"
   ]
  },
  {
   "cell_type": "markdown",
   "metadata": {},
   "source": [
    "# Check Samples from the Generator"
   ]
  },
  {
   "cell_type": "code",
   "execution_count": 244,
   "metadata": {
    "collapsed": true
   },
   "outputs": [],
   "source": [
    "def view_samples(epoch, samples):\n",
    "    fig, axes = plt.subplots(figsize=(7,7), nrows=4, ncols=4, sharey=True, sharex=True)\n",
    "    for ax, img in zip(axes.flatten(), samples[epoch]):\n",
    "        ax.xaxis.set_visible(False)\n",
    "        ax.yaxis.set_visible(False)\n",
    "        im = ax.imshow(img.view(28,28).data.numpy(), cmap='Greys_r')\n",
    "    \n",
    "    return fig, axes"
   ]
  },
  {
   "cell_type": "code",
   "execution_count": 262,
   "metadata": {
    "collapsed": true
   },
   "outputs": [],
   "source": [
    "noise_x = torch.randn(16, INPUT_NUMBERS)\n",
    "figures_x = Generator(noise_x)"
   ]
  },
  {
   "cell_type": "code",
   "execution_count": 263,
   "metadata": {
    "collapsed": false
   },
   "outputs": [
    {
     "data": {
      "text/plain": [
       "tensor([[ 0.3592,  0.6325, -1.7280,  ..., -0.4492, -0.5821,  0.4910],\n",
       "        [-1.3903,  0.0171, -1.1273,  ..., -0.7355, -0.8141,  1.1916],\n",
       "        [ 0.9640, -1.6183, -1.1877,  ..., -0.9044, -0.3777, -1.5615],\n",
       "        ...,\n",
       "        [ 1.1883, -0.9338,  1.0519,  ..., -0.5403, -0.8542,  1.3118],\n",
       "        [ 0.2938, -0.0190, -1.0952,  ...,  0.0939, -0.3021,  0.6343],\n",
       "        [-0.0525,  1.3391, -1.2802,  ...,  1.1374,  0.1974,  1.3754]])"
      ]
     },
     "execution_count": 263,
     "metadata": {},
     "output_type": "execute_result"
    }
   ],
   "source": [
    "noise_x"
   ]
  },
  {
   "cell_type": "code",
   "execution_count": 264,
   "metadata": {
    "collapsed": false,
    "scrolled": false
   },
   "outputs": [
    {
     "data": {
      "text/plain": [
       "(<matplotlib.figure.Figure at 0x116539890>,\n",
       " array([[<matplotlib.axes._subplots.AxesSubplot object at 0x118b976d0>,\n",
       "         <matplotlib.axes._subplots.AxesSubplot object at 0x118d2f810>,\n",
       "         <matplotlib.axes._subplots.AxesSubplot object at 0x118db4610>,\n",
       "         <matplotlib.axes._subplots.AxesSubplot object at 0x118e1cbd0>],\n",
       "        [<matplotlib.axes._subplots.AxesSubplot object at 0x118ea29d0>,\n",
       "         <matplotlib.axes._subplots.AxesSubplot object at 0x118f0df50>,\n",
       "         <matplotlib.axes._subplots.AxesSubplot object at 0x118f93f10>,\n",
       "         <matplotlib.axes._subplots.AxesSubplot object at 0x11900a410>],\n",
       "        [<matplotlib.axes._subplots.AxesSubplot object at 0x11908f3d0>,\n",
       "         <matplotlib.axes._subplots.AxesSubplot object at 0x1190f9950>,\n",
       "         <matplotlib.axes._subplots.AxesSubplot object at 0x11917fad0>,\n",
       "         <matplotlib.axes._subplots.AxesSubplot object at 0x11919a2d0>],\n",
       "        [<matplotlib.axes._subplots.AxesSubplot object at 0x11927c1d0>,\n",
       "         <matplotlib.axes._subplots.AxesSubplot object at 0x1192f4ed0>,\n",
       "         <matplotlib.axes._subplots.AxesSubplot object at 0x11936a710>,\n",
       "         <matplotlib.axes._subplots.AxesSubplot object at 0x1193f2450>]],\n",
       "       dtype=object))"
      ]
     },
     "execution_count": 264,
     "metadata": {},
     "output_type": "execute_result"
    },
    {
     "data": {
      "image/png": "[encoded data removed]",
      "text/plain": [
       "<matplotlib.figure.Figure at 0x116539890>"
      ]
     },
     "metadata": {},
     "output_type": "display_data"
    }
   ],
   "source": [
    "view_samples(0,[figures_x])"
   ]
  },
  {
   "cell_type": "markdown",
   "metadata": {},
   "source": [
    "It seems that we are able to generate some number from the random number, especially 8, 1, but it seems that we still have way to much noise and the display is not that well. We can improve it in the next convolutional GAN I think. "
   ]
  }
 ],
 "metadata": {
  "kernelspec": {
   "display_name": "Python 2",
   "language": "python",
   "name": "python2"
  },
  "language_info": {
   "codemirror_mode": {
    "name": "ipython",
    "version": 2
   },
   "file_extension": ".py",
   "mimetype": "text/x-python",
   "name": "python",
   "nbconvert_exporter": "python",
   "pygments_lexer": "ipython2",
   "version": "2.7.13"
  }
 },
 "nbformat": 4,
 "nbformat_minor": 2
}
