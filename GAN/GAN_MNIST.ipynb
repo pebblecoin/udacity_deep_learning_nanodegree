{
 "cells": [
  {
   "cell_type": "markdown",
   "metadata": {
    "deletable": true,
    "editable": true
   },
   "source": [
    "# Generative Adversarial Network on MNIST "
   ]
  },
  {
   "cell_type": "code",
   "execution_count": 1,
   "metadata": {
    "collapsed": true,
    "deletable": true,
    "editable": true
   },
   "outputs": [],
   "source": [
    "import matplotlib.pyplot as plt\n",
    "%matplotlib inline"
   ]
  },
  {
   "cell_type": "code",
   "execution_count": 17,
   "metadata": {
    "collapsed": true,
    "deletable": true,
    "editable": true
   },
   "outputs": [],
   "source": [
    "import torch\n",
    "import torchvision\n",
    "import torch.utils.data as Data\n",
    "import numpy as np\n",
    "import torch.nn as nn\n",
    "torch.manual_seed(7)\n",
    "np.random.seed(7)"
   ]
  },
  {
   "cell_type": "code",
   "execution_count": 25,
   "metadata": {
    "collapsed": false,
    "deletable": true,
    "editable": true,
    "scrolled": true
   },
   "outputs": [],
   "source": [
    "BATCH_SIZE = 64 \n",
    "LR_G = 0.01 # Learning rate for G network\n",
    "LR_D = 0.01 # Learning rate for D network\n",
    "INPUT_DIMENSION = 784\n",
    "INPUT_NUMBERS = 100\n",
    "N_NODES = 128"
   ]
  },
  {
   "cell_type": "markdown",
   "metadata": {
    "deletable": true,
    "editable": true
   },
   "source": [
    "## 1. Load MNIST Data"
   ]
  },
  {
   "cell_type": "code",
   "execution_count": 30,
   "metadata": {
    "collapsed": false,
    "deletable": true,
    "editable": true
   },
   "outputs": [],
   "source": [
    "mnist_trainset=torchvision.datasets.MNIST('MNIST',download=True,transform=torchvision.transforms.ToTensor())"
   ]
  },
  {
   "cell_type": "markdown",
   "metadata": {
    "deletable": true,
    "editable": true
   },
   "source": [
    "## 2. Create Two Networks"
   ]
  },
  {
   "cell_type": "code",
   "execution_count": 56,
   "metadata": {
    "collapsed": false
   },
   "outputs": [
    {
     "data": {
      "text/plain": [
       "torch.Size([64, 100])"
      ]
     },
     "execution_count": 56,
     "metadata": {},
     "output_type": "execute_result"
    }
   ],
   "source": [
    "noise_x.shape"
   ]
  },
  {
   "cell_type": "code",
   "execution_count": 31,
   "metadata": {
    "collapsed": false,
    "deletable": true,
    "editable": true
   },
   "outputs": [],
   "source": [
    "Generator = nn.Sequential(\n",
    "    nn.Linear(INPUT_NUMBERS,N_NODES),\n",
    "    nn.ReLU(),\n",
    "    nn.Linear(N_NODES,INPUT_DIMENSION),\n",
    ")\n",
    "\n",
    "Discriminator = nn.Sequential(\n",
    "    nn.Linear(INPUT_DIMENSION,N_NODES),\n",
    "    nn.ReLU(),\n",
    "    nn.Linear(N_NODES,1),\n",
    "    nn.Sigmoid(),\n",
    ")"
   ]
  },
  {
   "cell_type": "code",
   "execution_count": 70,
   "metadata": {
    "collapsed": false
   },
   "outputs": [
    {
     "name": "stderr",
     "output_type": "stream",
     "text": [
      "/Users/edwin/anaconda/lib/python2.7/site-packages/ipykernel_launcher.py:3: UserWarning: nn.init.xavier_uniform is now deprecated in favor of nn.init.xavier_uniform_.\n",
      "  This is separate from the ipykernel package so we can avoid doing imports until\n"
     ]
    },
    {
     "data": {
      "text/plain": [
       "Sequential(\n",
       "  (0): Linear(in_features=784, out_features=128, bias=True)\n",
       "  (1): ReLU()\n",
       "  (2): Linear(in_features=128, out_features=1, bias=True)\n",
       "  (3): Sigmoid()\n",
       ")"
      ]
     },
     "execution_count": 70,
     "metadata": {},
     "output_type": "execute_result"
    }
   ],
   "source": [
    "def init_weights(m):\n",
    "    if type(m) == nn.Linear:\n",
    "        torch.nn.init.xavier_uniform(m.weight)\n",
    "        m.bias.data.fill_(0.01)\n",
    "\n",
    "Generator.apply(init_weights)\n",
    "Discriminator.apply(init_weights)"
   ]
  },
  {
   "cell_type": "markdown",
   "metadata": {
    "deletable": true,
    "editable": true
   },
   "source": [
    "## 3. Model Training"
   ]
  },
  {
   "cell_type": "code",
   "execution_count": 32,
   "metadata": {
    "collapsed": true
   },
   "outputs": [],
   "source": [
    "# Here we will do the batch training."
   ]
  },
  {
   "cell_type": "code",
   "execution_count": 33,
   "metadata": {
    "collapsed": false
   },
   "outputs": [],
   "source": [
    "train_loader = Data.DataLoader(dataset=mnist_trainset, batch_size=BATCH_SIZE, shuffle=True)"
   ]
  },
  {
   "cell_type": "code",
   "execution_count": 35,
   "metadata": {
    "collapsed": false
   },
   "outputs": [],
   "source": [
    "opt_D = torch.optim.Adam(Discriminator.parameters(), lr=LR_D)\n",
    "opt_G = torch.optim.Adam(Generator.parameters(), lr=LR_G)"
   ]
  },
  {
   "cell_type": "code",
   "execution_count": null,
   "metadata": {
    "collapsed": false
   },
   "outputs": [],
   "source": [
    "for epoch in range(10):\n",
    "    \n",
    "    for step, (true_x, true_y) in enumerate(train_loader):\n",
    "    # Reshape data\n",
    "        true_x= true_x.view(-1,INPUT_DIMENSION)\n",
    "    # Random generate noise data\n",
    "        NOISE_SIZE = true_x.shape[0]\n",
    "        noise_x = torch.randn(NOISE_SIZE, INPUT_NUMBERS)\n",
    "    # G Model\n",
    "        fake_x = Generator(noise_x)\n",
    "    # D Model\n",
    "        prob0 = Discriminator(true_x)\n",
    "        prob1 = Discriminator(fake_x)\n",
    "\n",
    "    # Calculate Loss\n",
    "        D_loss = - torch.mean(torch.log(prob0) + torch.log(1. - prob1))\n",
    "        G_loss = torch.mean(torch.log(1. - prob1))\n",
    "    # Optimization\n",
    "        opt_D.zero_grad()\n",
    "        D_loss.backward(retain_graph=True)      # reusing computational graph\n",
    "        opt_D.step()\n",
    "\n",
    "        opt_G.zero_grad()\n",
    "        G_loss.backward()\n",
    "        opt_G.step()\n",
    "        \n",
    "        if step % 200 == 0:  # plotting\n",
    "            #print('True_prob{},Fake_prob{}'.format(prob0,prob1))\n",
    "            fake_pic = fake_x.view(-1,28,28).data.numpy()[0]\n",
    "            plt.cla()\n",
    "            plt.imshow(fake_pic)"
   ]
  },
  {
   "cell_type": "code",
   "execution_count": null,
   "metadata": {
    "collapsed": true
   },
   "outputs": [],
   "source": []
  }
 ],
 "metadata": {
  "kernelspec": {
   "display_name": "Python 2",
   "language": "python",
   "name": "python2"
  },
  "language_info": {
   "codemirror_mode": {
    "name": "ipython",
    "version": 2
   },
   "file_extension": ".py",
   "mimetype": "text/x-python",
   "name": "python",
   "nbconvert_exporter": "python",
   "pygments_lexer": "ipython2",
   "version": "2.7.13"
  }
 },
 "nbformat": 4,
 "nbformat_minor": 2
}
