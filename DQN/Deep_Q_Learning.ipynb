{
 "cells": [
  {
   "cell_type": "code",
   "execution_count": 1,
   "metadata": {
    "collapsed": false,
    "deletable": true,
    "editable": true
   },
   "outputs": [],
   "source": [
    "import gym\n",
    "import torch\n",
    "import torch.nn as nn\n",
    "import torch.nn.functional as F\n",
    "import numpy as np"
   ]
  },
  {
   "cell_type": "markdown",
   "metadata": {
    "deletable": true,
    "editable": true
   },
   "source": [
    "# 1. Define Network Models"
   ]
  },
  {
   "cell_type": "code",
   "execution_count": 2,
   "metadata": {
    "collapsed": false,
    "deletable": true,
    "editable": true
   },
   "outputs": [],
   "source": [
    "class Net(nn.Module):\n",
    "    def __init__(self):\n",
    "        super(Net,self).__init__()\n",
    "        self.fc1 = nn.Linear(N_STATES,50)\n",
    "        self.fc1.weight.data.normal_(0,0.5)\n",
    "        self.fc2 = nn.Linear(50,N_ACTIONS)\n",
    "        self.fc2.weight.data.normal_(0,0.5)\n",
    "    def forward(self,x):\n",
    "        x=self.fc1(x)\n",
    "        x=F.relu(x)\n",
    "        action = self.fc2(x)\n",
    "        return action"
   ]
  },
  {
   "cell_type": "code",
   "execution_count": 6,
   "metadata": {
    "collapsed": false,
    "deletable": true,
    "editable": true
   },
   "outputs": [
    {
     "name": "stderr",
     "output_type": "stream",
     "text": [
      "[2018-06-25 22:07:59,773] Making new env: CartPole-v0\n"
     ]
    }
   ],
   "source": [
    "# Hyper Parameters\n",
    "BATCH_SIZE = 32\n",
    "LR = 0.01                   # learning rate\n",
    "EPSILON = 0.9               # greedy policy\n",
    "GAMMA = 0.9                 # reward discount\n",
    "TARGET_REPLACE = 100   # target update frequency\n",
    "MEMORY_CAPACITY = 2000\n",
    "env = gym.make('CartPole-v0')\n",
    "env = env.unwrapped\n",
    "N_ACTIONS = env.action_space.n\n",
    "N_STATES = env.observation_space.shape[0]\n",
    "ENV_A_SHAPE = 0 if isinstance(env.action_space.sample(), int) else env.action_space.sample().shape     # to confirm the shape"
   ]
  },
  {
   "cell_type": "markdown",
   "metadata": {
    "deletable": true,
    "editable": true
   },
   "source": [
    "# 2. Create DQN Networks"
   ]
  },
  {
   "cell_type": "code",
   "execution_count": 9,
   "metadata": {
    "collapsed": false,
    "deletable": true,
    "editable": true
   },
   "outputs": [],
   "source": [
    "class DQN(object):\n",
    "    \n",
    "    def __init__(self):\n",
    "        self.eval_net, self.target_net = Net(),Net()\n",
    "        self.target_update_counter = 0\n",
    "        self.memory_counter = 0\n",
    "        self.memory = np.zeros((MEMORY_CAPACITY,N_STATES*2+2))\n",
    "        self.optimizer = torch.optim.Adam(self.eval_net.parameters(),lr=LR)\n",
    "        self.loss_func = nn.MSELoss()\n",
    "        \n",
    "    def choose_action(self,x):\n",
    "        x = torch.unsqueeze(torch.FloatTensor(x),0)\n",
    "        # Input only one sample\n",
    "        if np.random.uniform()<EPSILON:\n",
    "            action_value = self.eval_net(x)\n",
    "            action = torch.max(action_value,1)[1].data.numpy()\n",
    "            action = action[0] if ENV_A_SHAPE == 0 else action.reshape(ENV_A_SHAPE)  # Double Check\n",
    "        else:\n",
    "            action = np.random.randint(0,N_ACTIONS)\n",
    "            action = action if ENV_A_SHAPE == 0 else action.reshape(ENV_A_SHAPE) # Double Check\n",
    "        return action\n",
    "    \n",
    "    def store_transition(self,s,a,r,s_):\n",
    "        transition = np.hstack((s,[a,r],s_)) # Double check \n",
    "        index = self.memory_counter % MEMORY_CAPACITY\n",
    "        self.memory[index,:]=transition\n",
    "        self.memory_counter+=1\n",
    "        \n",
    "    def learn(self):\n",
    "        if self.target_update_counter % TARGET_REPLACE == 0:\n",
    "            self.target_net.load_state_dict(self.eval_net.state_dict())\n",
    "        self.target_update_counter += 1\n",
    "        \n",
    "        sample_index = np.random.choice(MEMORY_CAPACITY, BATCH_SIZE)\n",
    "        b_memory = self.memory[sample_index, :]\n",
    "        b_s = torch.FloatTensor(b_memory[:, :N_STATES])\n",
    "        b_a = torch.LongTensor(b_memory[:, N_STATES:N_STATES+1].astype(int))\n",
    "        b_r = torch.FloatTensor(b_memory[:, N_STATES+1:N_STATES+2])\n",
    "        b_s_ = torch.FloatTensor(b_memory[:, -N_STATES:])\n",
    "        \n",
    "        # Do the evaluation \n",
    "        # q_eval w.r.t the action in experience\n",
    "        q_eval = self.eval_net(b_s).gather(1, b_a)  # shape (batch, 1)\n",
    "        q_next = self.target_net(b_s_).detach()     # detach from graph, don't backpropagate\n",
    "        q_target = b_r + GAMMA * q_next.max(1)[0].view(BATCH_SIZE, 1)   # shape (batch, 1)\n",
    "        loss = self.loss_func(q_eval, q_target)\n",
    "        \n",
    "        self.optimizer.zero_grad()\n",
    "        loss.backward()\n",
    "        self.optimizer.step()"
   ]
  },
  {
   "cell_type": "code",
   "execution_count": 10,
   "metadata": {
    "collapsed": false,
    "deletable": true,
    "editable": true,
    "scrolled": false
   },
   "outputs": [
    {
     "name": "stdout",
     "output_type": "stream",
     "text": [
      "\n",
      "Collecting experience...\n",
      "('Ep: ', 175, '| Ep_r: ', 1.48)\n",
      "('Ep: ', 176, '| Ep_r: ', 4.15)\n",
      "('Ep: ', 177, '| Ep_r: ', 1.76)\n",
      "('Ep: ', 178, '| Ep_r: ', 1.39)\n",
      "('Ep: ', 179, '| Ep_r: ', 3.44)\n",
      "('Ep: ', 180, '| Ep_r: ', 4.59)\n",
      "('Ep: ', 181, '| Ep_r: ', 10.22)\n",
      "('Ep: ', 182, '| Ep_r: ', 2.15)\n",
      "('Ep: ', 183, '| Ep_r: ', 5.33)\n",
      "('Ep: ', 184, '| Ep_r: ', 2.73)\n",
      "('Ep: ', 185, '| Ep_r: ', 2.37)\n",
      "('Ep: ', 186, '| Ep_r: ', 3.58)\n",
      "('Ep: ', 187, '| Ep_r: ', 2.71)\n",
      "('Ep: ', 188, '| Ep_r: ', 2.84)\n",
      "('Ep: ', 189, '| Ep_r: ', 1.21)\n",
      "('Ep: ', 190, '| Ep_r: ', 2.83)\n",
      "('Ep: ', 191, '| Ep_r: ', 4.84)\n",
      "('Ep: ', 192, '| Ep_r: ', 5.82)\n",
      "('Ep: ', 193, '| Ep_r: ', 2.33)\n",
      "('Ep: ', 194, '| Ep_r: ', 2.56)\n",
      "('Ep: ', 195, '| Ep_r: ', 1.27)\n",
      "('Ep: ', 196, '| Ep_r: ', 1.62)\n",
      "('Ep: ', 197, '| Ep_r: ', 2.57)\n",
      "('Ep: ', 198, '| Ep_r: ', 3.04)\n",
      "('Ep: ', 199, '| Ep_r: ', 1.8)\n",
      "('Ep: ', 200, '| Ep_r: ', 1.31)\n",
      "('Ep: ', 201, '| Ep_r: ', 3.17)\n",
      "('Ep: ', 202, '| Ep_r: ', 3.3)\n",
      "('Ep: ', 203, '| Ep_r: ', 2.03)\n",
      "('Ep: ', 204, '| Ep_r: ', 1.98)\n",
      "('Ep: ', 205, '| Ep_r: ', 2.8)\n",
      "('Ep: ', 206, '| Ep_r: ', -4.44)\n",
      "('Ep: ', 207, '| Ep_r: ', 3.43)\n",
      "('Ep: ', 208, '| Ep_r: ', 2.87)\n",
      "('Ep: ', 209, '| Ep_r: ', 3.25)\n",
      "('Ep: ', 210, '| Ep_r: ', 2.45)\n",
      "('Ep: ', 211, '| Ep_r: ', 3.18)\n",
      "('Ep: ', 212, '| Ep_r: ', 28.89)\n",
      "('Ep: ', 213, '| Ep_r: ', 107.51)\n",
      "('Ep: ', 214, '| Ep_r: ', 82.57)\n",
      "('Ep: ', 215, '| Ep_r: ', 59.59)\n",
      "('Ep: ', 216, '| Ep_r: ', 63.27)\n",
      "('Ep: ', 217, '| Ep_r: ', 107.47)\n",
      "('Ep: ', 218, '| Ep_r: ', 179.52)\n",
      "('Ep: ', 219, '| Ep_r: ', 95.95)\n",
      "('Ep: ', 220, '| Ep_r: ', 75.8)\n",
      "('Ep: ', 221, '| Ep_r: ', 1050.06)\n",
      "('Ep: ', 222, '| Ep_r: ', 44.93)\n",
      "('Ep: ', 223, '| Ep_r: ', 179.91)\n",
      "('Ep: ', 224, '| Ep_r: ', 352.41)\n",
      "('Ep: ', 225, '| Ep_r: ', 162.82)\n",
      "('Ep: ', 226, '| Ep_r: ', 258.8)\n",
      "('Ep: ', 227, '| Ep_r: ', 179.61)\n",
      "('Ep: ', 228, '| Ep_r: ', 863.23)\n",
      "('Ep: ', 229, '| Ep_r: ', 169.1)\n",
      "('Ep: ', 230, '| Ep_r: ', 267.29)\n",
      "('Ep: ', 231, '| Ep_r: ', 694.37)\n",
      "('Ep: ', 232, '| Ep_r: ', 237.32)\n",
      "('Ep: ', 233, '| Ep_r: ', 154.76)\n",
      "('Ep: ', 234, '| Ep_r: ', 393.15)\n",
      "('Ep: ', 235, '| Ep_r: ', 777.82)\n",
      "('Ep: ', 236, '| Ep_r: ', 464.13)\n",
      "('Ep: ', 237, '| Ep_r: ', 274.28)\n",
      "('Ep: ', 238, '| Ep_r: ', 332.94)\n",
      "('Ep: ', 239, '| Ep_r: ', 703.59)\n",
      "('Ep: ', 240, '| Ep_r: ', 177.52)\n",
      "('Ep: ', 241, '| Ep_r: ', 307.0)\n",
      "('Ep: ', 242, '| Ep_r: ', 952.12)\n",
      "('Ep: ', 243, '| Ep_r: ', 404.74)\n",
      "('Ep: ', 244, '| Ep_r: ', 210.15)\n",
      "('Ep: ', 245, '| Ep_r: ', 460.81)\n",
      "('Ep: ', 246, '| Ep_r: ', 2.81)\n",
      "('Ep: ', 247, '| Ep_r: ', 9.37)\n",
      "('Ep: ', 248, '| Ep_r: ', 32.08)\n",
      "('Ep: ', 249, '| Ep_r: ', 793.18)\n",
      "('Ep: ', 250, '| Ep_r: ', 205.25)\n",
      "('Ep: ', 251, '| Ep_r: ', 319.64)\n",
      "('Ep: ', 252, '| Ep_r: ', 193.8)\n",
      "('Ep: ', 253, '| Ep_r: ', 80.79)\n",
      "('Ep: ', 254, '| Ep_r: ', 342.33)\n",
      "('Ep: ', 255, '| Ep_r: ', 298.66)\n",
      "('Ep: ', 256, '| Ep_r: ', 1179.66)\n",
      "('Ep: ', 257, '| Ep_r: ', 250.25)\n",
      "('Ep: ', 258, '| Ep_r: ', 1074.59)\n",
      "('Ep: ', 259, '| Ep_r: ', 307.23)\n",
      "('Ep: ', 260, '| Ep_r: ', 728.73)\n",
      "('Ep: ', 261, '| Ep_r: ', 273.48)\n",
      "('Ep: ', 262, '| Ep_r: ', 860.52)\n",
      "('Ep: ', 263, '| Ep_r: ', 359.9)\n",
      "('Ep: ', 264, '| Ep_r: ', 225.77)\n",
      "('Ep: ', 265, '| Ep_r: ', 384.64)\n",
      "('Ep: ', 266, '| Ep_r: ', 178.81)\n",
      "('Ep: ', 267, '| Ep_r: ', 345.12)\n",
      "('Ep: ', 268, '| Ep_r: ', 485.29)\n",
      "('Ep: ', 269, '| Ep_r: ', 561.9)\n",
      "('Ep: ', 270, '| Ep_r: ', 249.47)\n",
      "('Ep: ', 271, '| Ep_r: ', 764.01)\n",
      "('Ep: ', 272, '| Ep_r: ', 570.48)\n",
      "('Ep: ', 273, '| Ep_r: ', 1191.92)\n",
      "('Ep: ', 274, '| Ep_r: ', 702.54)\n",
      "('Ep: ', 275, '| Ep_r: ', 419.59)\n",
      "('Ep: ', 276, '| Ep_r: ', 958.77)\n",
      "('Ep: ', 277, '| Ep_r: ', 778.66)\n",
      "('Ep: ', 278, '| Ep_r: ', 152.79)\n",
      "('Ep: ', 279, '| Ep_r: ', 345.56)\n",
      "('Ep: ', 280, '| Ep_r: ', 1377.51)\n",
      "('Ep: ', 281, '| Ep_r: ', 362.42)\n",
      "('Ep: ', 282, '| Ep_r: ', 486.63)\n",
      "('Ep: ', 283, '| Ep_r: ', 1019.07)\n",
      "('Ep: ', 284, '| Ep_r: ', 884.01)\n",
      "('Ep: ', 285, '| Ep_r: ', 204.86)\n",
      "('Ep: ', 286, '| Ep_r: ', 397.41)\n",
      "('Ep: ', 287, '| Ep_r: ', 167.61)\n",
      "('Ep: ', 288, '| Ep_r: ', 1039.46)\n",
      "('Ep: ', 289, '| Ep_r: ', 531.77)\n",
      "('Ep: ', 290, '| Ep_r: ', 443.51)\n",
      "('Ep: ', 291, '| Ep_r: ', 462.85)\n",
      "('Ep: ', 292, '| Ep_r: ', 212.01)\n",
      "('Ep: ', 293, '| Ep_r: ', 1425.38)\n",
      "('Ep: ', 294, '| Ep_r: ', 405.86)\n",
      "('Ep: ', 295, '| Ep_r: ', 427.87)\n",
      "('Ep: ', 296, '| Ep_r: ', 367.01)\n",
      "('Ep: ', 297, '| Ep_r: ', 329.58)\n",
      "('Ep: ', 298, '| Ep_r: ', 205.65)\n",
      "('Ep: ', 299, '| Ep_r: ', 174.43)\n",
      "('Ep: ', 300, '| Ep_r: ', 256.37)\n",
      "('Ep: ', 301, '| Ep_r: ', 119.07)\n",
      "('Ep: ', 302, '| Ep_r: ', 1169.31)\n",
      "('Ep: ', 303, '| Ep_r: ', 2757.11)\n",
      "('Ep: ', 304, '| Ep_r: ', 117.45)\n",
      "('Ep: ', 305, '| Ep_r: ', 1034.64)\n",
      "('Ep: ', 306, '| Ep_r: ', 216.7)\n",
      "('Ep: ', 307, '| Ep_r: ', 451.58)\n",
      "('Ep: ', 308, '| Ep_r: ', 244.57)\n",
      "('Ep: ', 309, '| Ep_r: ', 885.03)\n",
      "('Ep: ', 310, '| Ep_r: ', 1976.38)\n",
      "('Ep: ', 311, '| Ep_r: ', 630.52)\n",
      "('Ep: ', 312, '| Ep_r: ', 220.45)\n",
      "('Ep: ', 313, '| Ep_r: ', 132.46)\n",
      "('Ep: ', 314, '| Ep_r: ', 411.07)\n",
      "('Ep: ', 315, '| Ep_r: ', 660.98)\n",
      "('Ep: ', 316, '| Ep_r: ', 263.37)\n",
      "('Ep: ', 317, '| Ep_r: ', 512.07)\n",
      "('Ep: ', 318, '| Ep_r: ', 347.24)\n",
      "('Ep: ', 319, '| Ep_r: ', 367.19)\n",
      "('Ep: ', 320, '| Ep_r: ', 525.12)\n",
      "('Ep: ', 321, '| Ep_r: ', 248.02)\n",
      "('Ep: ', 322, '| Ep_r: ', 440.19)\n",
      "('Ep: ', 323, '| Ep_r: ', 200.52)\n",
      "('Ep: ', 324, '| Ep_r: ', 528.25)\n",
      "('Ep: ', 325, '| Ep_r: ', 353.88)\n",
      "('Ep: ', 326, '| Ep_r: ', 347.49)\n",
      "('Ep: ', 327, '| Ep_r: ', 339.45)\n",
      "('Ep: ', 328, '| Ep_r: ', 377.43)\n",
      "('Ep: ', 329, '| Ep_r: ', 169.52)\n",
      "('Ep: ', 330, '| Ep_r: ', 863.15)\n",
      "('Ep: ', 331, '| Ep_r: ', 1158.33)\n",
      "('Ep: ', 332, '| Ep_r: ', 298.43)\n",
      "('Ep: ', 333, '| Ep_r: ', 350.05)\n",
      "('Ep: ', 334, '| Ep_r: ', 744.96)\n",
      "('Ep: ', 335, '| Ep_r: ', 132.56)\n",
      "('Ep: ', 336, '| Ep_r: ', 309.09)\n",
      "('Ep: ', 337, '| Ep_r: ', 461.72)\n",
      "('Ep: ', 338, '| Ep_r: ', 1569.07)\n",
      "('Ep: ', 339, '| Ep_r: ', 207.28)\n",
      "('Ep: ', 340, '| Ep_r: ', 117.43)\n",
      "('Ep: ', 341, '| Ep_r: ', 175.08)\n",
      "('Ep: ', 342, '| Ep_r: ', 231.5)\n",
      "('Ep: ', 343, '| Ep_r: ', 793.98)\n",
      "('Ep: ', 344, '| Ep_r: ', 1298.77)\n",
      "('Ep: ', 345, '| Ep_r: ', 716.92)\n",
      "('Ep: ', 346, '| Ep_r: ', 596.21)\n",
      "('Ep: ', 347, '| Ep_r: ', 202.9)\n",
      "('Ep: ', 348, '| Ep_r: ', 469.03)\n",
      "('Ep: ', 349, '| Ep_r: ', 380.62)\n",
      "('Ep: ', 350, '| Ep_r: ', 127.08)\n",
      "('Ep: ', 351, '| Ep_r: ', 209.26)\n",
      "('Ep: ', 352, '| Ep_r: ', 607.03)\n",
      "('Ep: ', 353, '| Ep_r: ', 153.31)\n",
      "('Ep: ', 354, '| Ep_r: ', 220.49)\n",
      "('Ep: ', 355, '| Ep_r: ', 494.21)\n",
      "('Ep: ', 356, '| Ep_r: ', 240.96)\n",
      "('Ep: ', 357, '| Ep_r: ', 318.34)\n",
      "('Ep: ', 358, '| Ep_r: ', 575.85)\n",
      "('Ep: ', 359, '| Ep_r: ', 372.18)\n",
      "('Ep: ', 360, '| Ep_r: ', 719.82)\n",
      "('Ep: ', 361, '| Ep_r: ', 149.38)\n",
      "('Ep: ', 362, '| Ep_r: ', 812.56)\n",
      "('Ep: ', 363, '| Ep_r: ', 1152.01)\n",
      "('Ep: ', 364, '| Ep_r: ', 269.55)\n",
      "('Ep: ', 365, '| Ep_r: ', 362.89)\n",
      "('Ep: ', 366, '| Ep_r: ', 311.15)\n",
      "('Ep: ', 367, '| Ep_r: ', 369.95)\n",
      "('Ep: ', 368, '| Ep_r: ', 348.37)\n",
      "('Ep: ', 369, '| Ep_r: ', 1110.02)\n",
      "('Ep: ', 370, '| Ep_r: ', 1495.24)\n",
      "('Ep: ', 371, '| Ep_r: ', 145.76)\n",
      "('Ep: ', 372, '| Ep_r: ', 933.23)\n",
      "('Ep: ', 373, '| Ep_r: ', 143.59)\n",
      "('Ep: ', 374, '| Ep_r: ', 460.36)\n",
      "('Ep: ', 375, '| Ep_r: ', 912.49)\n",
      "('Ep: ', 376, '| Ep_r: ', 399.41)\n",
      "('Ep: ', 377, '| Ep_r: ', 557.82)\n",
      "('Ep: ', 378, '| Ep_r: ', 413.69)\n",
      "('Ep: ', 379, '| Ep_r: ', 775.28)\n",
      "('Ep: ', 380, '| Ep_r: ', 1690.95)\n",
      "('Ep: ', 381, '| Ep_r: ', 246.62)\n",
      "('Ep: ', 382, '| Ep_r: ', 526.11)\n",
      "('Ep: ', 383, '| Ep_r: ', 156.02)\n",
      "('Ep: ', 384, '| Ep_r: ', 194.68)\n",
      "('Ep: ', 385, '| Ep_r: ', 185.49)\n",
      "('Ep: ', 386, '| Ep_r: ', 733.3)\n",
      "('Ep: ', 387, '| Ep_r: ', 1023.39)\n",
      "('Ep: ', 388, '| Ep_r: ', 959.61)\n",
      "('Ep: ', 389, '| Ep_r: ', 1488.08)\n",
      "('Ep: ', 390, '| Ep_r: ', 433.88)\n",
      "('Ep: ', 391, '| Ep_r: ', 385.98)\n",
      "('Ep: ', 392, '| Ep_r: ', 205.94)\n",
      "('Ep: ', 393, '| Ep_r: ', 552.65)\n",
      "('Ep: ', 394, '| Ep_r: ', 1306.63)\n",
      "('Ep: ', 395, '| Ep_r: ', 511.27)\n",
      "('Ep: ', 396, '| Ep_r: ', 163.3)\n",
      "('Ep: ', 397, '| Ep_r: ', 196.66)\n",
      "('Ep: ', 398, '| Ep_r: ', 671.08)\n",
      "('Ep: ', 399, '| Ep_r: ', 1889.77)\n"
     ]
    }
   ],
   "source": [
    "dqn = DQN()\n",
    "\n",
    "print('\\nCollecting experience...')\n",
    "for i_episode in range(400):\n",
    "    s = env.reset()\n",
    "    ep_r = 0\n",
    "    while True:\n",
    "        env.render()\n",
    "        a = dqn.choose_action(s)\n",
    "\n",
    "        # take action\n",
    "        s_, r, done, info = env.step(a)\n",
    "\n",
    "        # modify the reward\n",
    "        x, x_dot, theta, theta_dot = s_\n",
    "        r1 = (env.x_threshold - abs(x)) / env.x_threshold - 0.8\n",
    "        r2 = (env.theta_threshold_radians - abs(theta)) / env.theta_threshold_radians - 0.5\n",
    "        r = r1 + r2\n",
    "\n",
    "        dqn.store_transition(s, a, r, s_)\n",
    "\n",
    "        ep_r += r\n",
    "        if dqn.memory_counter > MEMORY_CAPACITY:\n",
    "            dqn.learn()\n",
    "            if done:\n",
    "                print('Ep: ', i_episode,\n",
    "                      '| Ep_r: ', round(ep_r, 2))\n",
    "\n",
    "        if done:\n",
    "            break\n",
    "        s = s_"
   ]
  },
  {
   "cell_type": "code",
   "execution_count": 16,
   "metadata": {
    "collapsed": true
   },
   "outputs": [],
   "source": [
    "s = env.reset()"
   ]
  },
  {
   "cell_type": "code",
   "execution_count": 17,
   "metadata": {
    "collapsed": false
   },
   "outputs": [
    {
     "data": {
      "text/plain": [
       "1"
      ]
     },
     "execution_count": 17,
     "metadata": {},
     "output_type": "execute_result"
    }
   ],
   "source": [
    "dqn.choose_action(s)"
   ]
  },
  {
   "cell_type": "code",
   "execution_count": 18,
   "metadata": {
    "collapsed": true
   },
   "outputs": [],
   "source": [
    "s_, r, done, info = env.step(a)"
   ]
  },
  {
   "cell_type": "code",
   "execution_count": 33,
   "metadata": {
    "collapsed": true
   },
   "outputs": [],
   "source": [
    "??env.step()"
   ]
  },
  {
   "cell_type": "code",
   "execution_count": 21,
   "metadata": {
    "collapsed": false
   },
   "outputs": [
    {
     "data": {
      "text/plain": [
       "array([-0.02242197, -0.02170639, -0.02709821, -0.02154262])"
      ]
     },
     "execution_count": 21,
     "metadata": {},
     "output_type": "execute_result"
    }
   ],
   "source": [
    "s"
   ]
  },
  {
   "cell_type": "code",
   "execution_count": 22,
   "metadata": {
    "collapsed": false
   },
   "outputs": [],
   "source": [
    "x, x_dot, theta, theta_dot = s_"
   ]
  },
  {
   "cell_type": "code",
   "execution_count": 23,
   "metadata": {
    "collapsed": true
   },
   "outputs": [],
   "source": [
    "        r1 = (env.x_threshold - abs(x)) / env.x_threshold - 0.8\n",
    "        r2 = (env.theta_threshold_radians - abs(theta)) / env.theta_threshold_radians - 0.5\n",
    "        r = r1 + r2"
   ]
  }
 ],
 "metadata": {
  "kernelspec": {
   "display_name": "Python 2",
   "language": "python",
   "name": "python2"
  },
  "language_info": {
   "codemirror_mode": {
    "name": "ipython",
    "version": 2
   },
   "file_extension": ".py",
   "mimetype": "text/x-python",
   "name": "python",
   "nbconvert_exporter": "python",
   "pygments_lexer": "ipython2",
   "version": "2.7.13"
  }
 },
 "nbformat": 4,
 "nbformat_minor": 2
}
